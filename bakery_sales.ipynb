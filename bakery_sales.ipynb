{
 "cells": [
  {
   "cell_type": "code",
   "execution_count": 1,
   "id": "5083cb8c-058f-4b9a-8b62-e938e09f5f52",
   "metadata": {},
   "outputs": [],
   "source": [
    "# Import libraries\n",
    "import pandas as pd\n",
    "import matplotlib.pyplot as plt\n",
    "%matplotlib inline\n",
    "\n",
    "from sklearn.model_selection import train_test_split\n",
    "from sklearn.linear_model import LinearRegression\n",
    "from sklearn.preprocessing import StandardScaler\n",
    "import numpy as np\n",
    "from datetime import datetime"
   ]
  },
  {
   "cell_type": "code",
   "execution_count": 2,
   "id": "f30fda78-996a-4655-a096-7ee54a756701",
   "metadata": {},
   "outputs": [
    {
     "data": {
      "text/html": [
       "<div>\n",
       "<style scoped>\n",
       "    .dataframe tbody tr th:only-of-type {\n",
       "        vertical-align: middle;\n",
       "    }\n",
       "\n",
       "    .dataframe tbody tr th {\n",
       "        vertical-align: top;\n",
       "    }\n",
       "\n",
       "    .dataframe thead th {\n",
       "        text-align: right;\n",
       "    }\n",
       "</style>\n",
       "<table border=\"1\" class=\"dataframe\">\n",
       "  <thead>\n",
       "    <tr style=\"text-align: right;\">\n",
       "      <th></th>\n",
       "      <th>id</th>\n",
       "      <th>Datum</th>\n",
       "      <th>Warengruppe</th>\n",
       "      <th>Umsatz</th>\n",
       "    </tr>\n",
       "  </thead>\n",
       "  <tbody>\n",
       "    <tr>\n",
       "      <th>0</th>\n",
       "      <td>1307011</td>\n",
       "      <td>2013-07-01</td>\n",
       "      <td>1</td>\n",
       "      <td>148.828353</td>\n",
       "    </tr>\n",
       "    <tr>\n",
       "      <th>1</th>\n",
       "      <td>1307021</td>\n",
       "      <td>2013-07-02</td>\n",
       "      <td>1</td>\n",
       "      <td>159.793757</td>\n",
       "    </tr>\n",
       "    <tr>\n",
       "      <th>2</th>\n",
       "      <td>1307031</td>\n",
       "      <td>2013-07-03</td>\n",
       "      <td>1</td>\n",
       "      <td>111.885594</td>\n",
       "    </tr>\n",
       "    <tr>\n",
       "      <th>3</th>\n",
       "      <td>1307041</td>\n",
       "      <td>2013-07-04</td>\n",
       "      <td>1</td>\n",
       "      <td>168.864941</td>\n",
       "    </tr>\n",
       "    <tr>\n",
       "      <th>4</th>\n",
       "      <td>1307051</td>\n",
       "      <td>2013-07-05</td>\n",
       "      <td>1</td>\n",
       "      <td>171.280754</td>\n",
       "    </tr>\n",
       "  </tbody>\n",
       "</table>\n",
       "</div>"
      ],
      "text/plain": [
       "        id       Datum  Warengruppe      Umsatz\n",
       "0  1307011  2013-07-01            1  148.828353\n",
       "1  1307021  2013-07-02            1  159.793757\n",
       "2  1307031  2013-07-03            1  111.885594\n",
       "3  1307041  2013-07-04            1  168.864941\n",
       "4  1307051  2013-07-05            1  171.280754"
      ]
     },
     "execution_count": 2,
     "metadata": {},
     "output_type": "execute_result"
    }
   ],
   "source": [
    "# Load / Check the dataset (train_data)\n",
    "train_data = pd.read_csv('../data/train.csv')\n",
    "train_data.head()"
   ]
  },
  {
   "cell_type": "code",
   "execution_count": 3,
   "id": "061e4fdf-883e-4dcf-8260-1617f6401e9d",
   "metadata": {},
   "outputs": [
    {
     "data": {
      "text/plain": [
       "count    9334.000000\n",
       "mean      206.749044\n",
       "std       144.545189\n",
       "min         7.051201\n",
       "25%        96.897441\n",
       "50%       161.900831\n",
       "75%       280.644663\n",
       "max      1879.461831\n",
       "Name: Umsatz, dtype: float64"
      ]
     },
     "execution_count": 3,
     "metadata": {},
     "output_type": "execute_result"
    }
   ],
   "source": [
    "train_data['Umsatz'].describe()"
   ]
  },
  {
   "cell_type": "code",
   "execution_count": 4,
   "id": "5be97f3c-2bed-4db0-be33-34a6e9c962d3",
   "metadata": {},
   "outputs": [
    {
     "name": "stdout",
     "output_type": "stream",
     "text": [
      "<class 'pandas.core.frame.DataFrame'>\n",
      "RangeIndex: 9334 entries, 0 to 9333\n",
      "Data columns (total 4 columns):\n",
      " #   Column       Non-Null Count  Dtype  \n",
      "---  ------       --------------  -----  \n",
      " 0   id           9334 non-null   int64  \n",
      " 1   Datum        9334 non-null   object \n",
      " 2   Warengruppe  9334 non-null   int64  \n",
      " 3   Umsatz       9334 non-null   float64\n",
      "dtypes: float64(1), int64(2), object(1)\n",
      "memory usage: 291.8+ KB\n"
     ]
    }
   ],
   "source": [
    "train_data.info()"
   ]
  },
  {
   "cell_type": "code",
   "execution_count": 5,
   "id": "57d856e7-ad11-4469-8daf-9fef43409cd1",
   "metadata": {},
   "outputs": [
    {
     "data": {
      "text/html": [
       "<div>\n",
       "<style scoped>\n",
       "    .dataframe tbody tr th:only-of-type {\n",
       "        vertical-align: middle;\n",
       "    }\n",
       "\n",
       "    .dataframe tbody tr th {\n",
       "        vertical-align: top;\n",
       "    }\n",
       "\n",
       "    .dataframe thead th {\n",
       "        text-align: right;\n",
       "    }\n",
       "</style>\n",
       "<table border=\"1\" class=\"dataframe\">\n",
       "  <thead>\n",
       "    <tr style=\"text-align: right;\">\n",
       "      <th></th>\n",
       "      <th>Datum</th>\n",
       "      <th>Bewoelkung</th>\n",
       "      <th>Temperatur</th>\n",
       "      <th>Windgeschwindigkeit</th>\n",
       "      <th>Wettercode</th>\n",
       "    </tr>\n",
       "  </thead>\n",
       "  <tbody>\n",
       "    <tr>\n",
       "      <th>0</th>\n",
       "      <td>2012-01-01</td>\n",
       "      <td>8.0</td>\n",
       "      <td>9.8250</td>\n",
       "      <td>14</td>\n",
       "      <td>58.0</td>\n",
       "    </tr>\n",
       "    <tr>\n",
       "      <th>1</th>\n",
       "      <td>2012-01-02</td>\n",
       "      <td>7.0</td>\n",
       "      <td>7.4375</td>\n",
       "      <td>12</td>\n",
       "      <td>NaN</td>\n",
       "    </tr>\n",
       "    <tr>\n",
       "      <th>2</th>\n",
       "      <td>2012-01-03</td>\n",
       "      <td>8.0</td>\n",
       "      <td>5.5375</td>\n",
       "      <td>18</td>\n",
       "      <td>63.0</td>\n",
       "    </tr>\n",
       "    <tr>\n",
       "      <th>3</th>\n",
       "      <td>2012-01-04</td>\n",
       "      <td>4.0</td>\n",
       "      <td>5.6875</td>\n",
       "      <td>19</td>\n",
       "      <td>80.0</td>\n",
       "    </tr>\n",
       "    <tr>\n",
       "      <th>4</th>\n",
       "      <td>2012-01-05</td>\n",
       "      <td>6.0</td>\n",
       "      <td>5.3000</td>\n",
       "      <td>23</td>\n",
       "      <td>80.0</td>\n",
       "    </tr>\n",
       "  </tbody>\n",
       "</table>\n",
       "</div>"
      ],
      "text/plain": [
       "        Datum  Bewoelkung  Temperatur  Windgeschwindigkeit  Wettercode\n",
       "0  2012-01-01         8.0      9.8250                   14        58.0\n",
       "1  2012-01-02         7.0      7.4375                   12         NaN\n",
       "2  2012-01-03         8.0      5.5375                   18        63.0\n",
       "3  2012-01-04         4.0      5.6875                   19        80.0\n",
       "4  2012-01-05         6.0      5.3000                   23        80.0"
      ]
     },
     "execution_count": 5,
     "metadata": {},
     "output_type": "execute_result"
    }
   ],
   "source": [
    "# Load / Check the dataset (wetter)\n",
    "wetter = pd.read_csv('../data/wetter.csv')\n",
    "wetter.head()"
   ]
  },
  {
   "cell_type": "code",
   "execution_count": 6,
   "id": "1772fb22-aad9-43ca-b703-914e70280d11",
   "metadata": {},
   "outputs": [
    {
     "name": "stdout",
     "output_type": "stream",
     "text": [
      "<class 'pandas.core.frame.DataFrame'>\n",
      "RangeIndex: 2601 entries, 0 to 2600\n",
      "Data columns (total 5 columns):\n",
      " #   Column               Non-Null Count  Dtype  \n",
      "---  ------               --------------  -----  \n",
      " 0   Datum                2601 non-null   object \n",
      " 1   Bewoelkung           2591 non-null   float64\n",
      " 2   Temperatur           2601 non-null   float64\n",
      " 3   Windgeschwindigkeit  2601 non-null   int64  \n",
      " 4   Wettercode           1932 non-null   float64\n",
      "dtypes: float64(3), int64(1), object(1)\n",
      "memory usage: 101.7+ KB\n"
     ]
    }
   ],
   "source": [
    "wetter.info()"
   ]
  },
  {
   "cell_type": "code",
   "execution_count": 7,
   "id": "cf8d69f1-637a-43ae-ac73-56b9c6bc65f0",
   "metadata": {},
   "outputs": [
    {
     "data": {
      "text/html": [
       "<div>\n",
       "<style scoped>\n",
       "    .dataframe tbody tr th:only-of-type {\n",
       "        vertical-align: middle;\n",
       "    }\n",
       "\n",
       "    .dataframe tbody tr th {\n",
       "        vertical-align: top;\n",
       "    }\n",
       "\n",
       "    .dataframe thead th {\n",
       "        text-align: right;\n",
       "    }\n",
       "</style>\n",
       "<table border=\"1\" class=\"dataframe\">\n",
       "  <thead>\n",
       "    <tr style=\"text-align: right;\">\n",
       "      <th></th>\n",
       "      <th>Datum</th>\n",
       "      <th>KielerWoche</th>\n",
       "    </tr>\n",
       "  </thead>\n",
       "  <tbody>\n",
       "    <tr>\n",
       "      <th>0</th>\n",
       "      <td>2012-06-16</td>\n",
       "      <td>1</td>\n",
       "    </tr>\n",
       "    <tr>\n",
       "      <th>1</th>\n",
       "      <td>2012-06-17</td>\n",
       "      <td>1</td>\n",
       "    </tr>\n",
       "    <tr>\n",
       "      <th>2</th>\n",
       "      <td>2012-06-18</td>\n",
       "      <td>1</td>\n",
       "    </tr>\n",
       "    <tr>\n",
       "      <th>3</th>\n",
       "      <td>2012-06-19</td>\n",
       "      <td>1</td>\n",
       "    </tr>\n",
       "    <tr>\n",
       "      <th>4</th>\n",
       "      <td>2012-06-20</td>\n",
       "      <td>1</td>\n",
       "    </tr>\n",
       "  </tbody>\n",
       "</table>\n",
       "</div>"
      ],
      "text/plain": [
       "        Datum  KielerWoche\n",
       "0  2012-06-16            1\n",
       "1  2012-06-17            1\n",
       "2  2012-06-18            1\n",
       "3  2012-06-19            1\n",
       "4  2012-06-20            1"
      ]
     },
     "execution_count": 7,
     "metadata": {},
     "output_type": "execute_result"
    }
   ],
   "source": [
    "# Load / Check the dataset (kiwo)\n",
    "kiwo = pd.read_csv('../data/kiwo.csv')\n",
    "kiwo.head()"
   ]
  },
  {
   "cell_type": "code",
   "execution_count": 8,
   "id": "e0dc3b1a-b956-4a6b-a315-a9e28a681b78",
   "metadata": {},
   "outputs": [
    {
     "name": "stdout",
     "output_type": "stream",
     "text": [
      "<class 'pandas.core.frame.DataFrame'>\n",
      "RangeIndex: 72 entries, 0 to 71\n",
      "Data columns (total 2 columns):\n",
      " #   Column       Non-Null Count  Dtype \n",
      "---  ------       --------------  ----- \n",
      " 0   Datum        72 non-null     object\n",
      " 1   KielerWoche  72 non-null     int64 \n",
      "dtypes: int64(1), object(1)\n",
      "memory usage: 1.3+ KB\n"
     ]
    }
   ],
   "source": [
    "kiwo.info()"
   ]
  },
  {
   "cell_type": "markdown",
   "id": "35598123-bbae-45bf-beac-7c515e9b93f9",
   "metadata": {},
   "source": [
    "Merge three dataset columns into the train data. \n",
    "(1-1) Wetter (Bewoelkung, Temperatur, Windgeschwindigkeit, Wettercode) \n",
    "(1-2) Kiwo (KielerWoche)\n",
    "\n",
    "After merge, \n",
    "(2-1) Visualize datasets(scatter) \n",
    "(2-2) Treat missing data(Bewoelkung, Wettercode, KielerWoche) \n",
    "*KielerWoche --> Non-KielerWoche flag is set to 0"
   ]
  },
  {
   "cell_type": "code",
   "execution_count": 9,
   "id": "fa6f4184-cac8-49b0-8ec2-366b22eb5f77",
   "metadata": {},
   "outputs": [],
   "source": [
    "# Merge train data, wetter, and kiwo\n",
    "# Since cannot merge multiple datasets at once, merge them in two phases.\n",
    "# (first: train_data + wetter, second: train_data2 + kiwo)\n",
    "train_data2 = train_data.merge(wetter, how = 'left', on = 'Datum')\n",
    "train_data2 = train_data2.merge(kiwo, how = 'left', on = 'Datum')"
   ]
  },
  {
   "cell_type": "code",
   "execution_count": 10,
   "id": "56ce90b5-1dd2-4bd8-9fe2-cfc04aed0b76",
   "metadata": {},
   "outputs": [
    {
     "data": {
      "text/html": [
       "<div>\n",
       "<style scoped>\n",
       "    .dataframe tbody tr th:only-of-type {\n",
       "        vertical-align: middle;\n",
       "    }\n",
       "\n",
       "    .dataframe tbody tr th {\n",
       "        vertical-align: top;\n",
       "    }\n",
       "\n",
       "    .dataframe thead th {\n",
       "        text-align: right;\n",
       "    }\n",
       "</style>\n",
       "<table border=\"1\" class=\"dataframe\">\n",
       "  <thead>\n",
       "    <tr style=\"text-align: right;\">\n",
       "      <th></th>\n",
       "      <th>id</th>\n",
       "      <th>Datum</th>\n",
       "      <th>Warengruppe</th>\n",
       "      <th>Umsatz</th>\n",
       "      <th>Bewoelkung</th>\n",
       "      <th>Temperatur</th>\n",
       "      <th>Windgeschwindigkeit</th>\n",
       "      <th>Wettercode</th>\n",
       "      <th>KielerWoche</th>\n",
       "    </tr>\n",
       "  </thead>\n",
       "  <tbody>\n",
       "    <tr>\n",
       "      <th>0</th>\n",
       "      <td>1307011</td>\n",
       "      <td>2013-07-01</td>\n",
       "      <td>1</td>\n",
       "      <td>148.828353</td>\n",
       "      <td>6.0</td>\n",
       "      <td>17.8375</td>\n",
       "      <td>15.0</td>\n",
       "      <td>20.0</td>\n",
       "      <td>NaN</td>\n",
       "    </tr>\n",
       "    <tr>\n",
       "      <th>1</th>\n",
       "      <td>1307021</td>\n",
       "      <td>2013-07-02</td>\n",
       "      <td>1</td>\n",
       "      <td>159.793757</td>\n",
       "      <td>3.0</td>\n",
       "      <td>17.3125</td>\n",
       "      <td>10.0</td>\n",
       "      <td>NaN</td>\n",
       "      <td>NaN</td>\n",
       "    </tr>\n",
       "    <tr>\n",
       "      <th>2</th>\n",
       "      <td>1307031</td>\n",
       "      <td>2013-07-03</td>\n",
       "      <td>1</td>\n",
       "      <td>111.885594</td>\n",
       "      <td>7.0</td>\n",
       "      <td>21.0750</td>\n",
       "      <td>6.0</td>\n",
       "      <td>61.0</td>\n",
       "      <td>NaN</td>\n",
       "    </tr>\n",
       "    <tr>\n",
       "      <th>3</th>\n",
       "      <td>1307041</td>\n",
       "      <td>2013-07-04</td>\n",
       "      <td>1</td>\n",
       "      <td>168.864941</td>\n",
       "      <td>7.0</td>\n",
       "      <td>18.8500</td>\n",
       "      <td>7.0</td>\n",
       "      <td>20.0</td>\n",
       "      <td>NaN</td>\n",
       "    </tr>\n",
       "    <tr>\n",
       "      <th>4</th>\n",
       "      <td>1307051</td>\n",
       "      <td>2013-07-05</td>\n",
       "      <td>1</td>\n",
       "      <td>171.280754</td>\n",
       "      <td>5.0</td>\n",
       "      <td>19.9750</td>\n",
       "      <td>12.0</td>\n",
       "      <td>NaN</td>\n",
       "      <td>NaN</td>\n",
       "    </tr>\n",
       "  </tbody>\n",
       "</table>\n",
       "</div>"
      ],
      "text/plain": [
       "        id       Datum  Warengruppe      Umsatz  Bewoelkung  Temperatur  \\\n",
       "0  1307011  2013-07-01            1  148.828353         6.0     17.8375   \n",
       "1  1307021  2013-07-02            1  159.793757         3.0     17.3125   \n",
       "2  1307031  2013-07-03            1  111.885594         7.0     21.0750   \n",
       "3  1307041  2013-07-04            1  168.864941         7.0     18.8500   \n",
       "4  1307051  2013-07-05            1  171.280754         5.0     19.9750   \n",
       "\n",
       "   Windgeschwindigkeit  Wettercode  KielerWoche  \n",
       "0                 15.0        20.0          NaN  \n",
       "1                 10.0         NaN          NaN  \n",
       "2                  6.0        61.0          NaN  \n",
       "3                  7.0        20.0          NaN  \n",
       "4                 12.0         NaN          NaN  "
      ]
     },
     "execution_count": 10,
     "metadata": {},
     "output_type": "execute_result"
    }
   ],
   "source": [
    "train_data2.head()"
   ]
  },
  {
   "cell_type": "code",
   "execution_count": 11,
   "id": "05ac8471-657b-4808-bacd-637f5e5ab2d1",
   "metadata": {},
   "outputs": [
    {
     "name": "stdout",
     "output_type": "stream",
     "text": [
      "<class 'pandas.core.frame.DataFrame'>\n",
      "RangeIndex: 9334 entries, 0 to 9333\n",
      "Data columns (total 9 columns):\n",
      " #   Column               Non-Null Count  Dtype  \n",
      "---  ------               --------------  -----  \n",
      " 0   id                   9334 non-null   int64  \n",
      " 1   Datum                9334 non-null   object \n",
      " 2   Warengruppe          9334 non-null   int64  \n",
      " 3   Umsatz               9334 non-null   float64\n",
      " 4   Bewoelkung           9264 non-null   float64\n",
      " 5   Temperatur           9318 non-null   float64\n",
      " 6   Windgeschwindigkeit  9318 non-null   float64\n",
      " 7   Wettercode           7009 non-null   float64\n",
      " 8   KielerWoche          223 non-null    float64\n",
      "dtypes: float64(6), int64(2), object(1)\n",
      "memory usage: 656.4+ KB\n"
     ]
    }
   ],
   "source": [
    "train_data2.info()"
   ]
  },
  {
   "cell_type": "markdown",
   "id": "8538449c-4968-4bd1-95dd-310224d9ef6d",
   "metadata": {},
   "source": [
    "Check relevance between \"Umsatz\" and Temperatur/Windgeschwindigkeit by scatter plot."
   ]
  },
  {
   "cell_type": "code",
   "execution_count": 12,
   "id": "6eb169d2-bfab-48ed-b461-d30a4746d0d1",
   "metadata": {},
   "outputs": [
    {
     "data": {
      "image/png": "[encoded data removed]",
      "text/plain": [
       "<Figure size 640x480 with 1 Axes>"
      ]
     },
     "metadata": {},
     "output_type": "display_data"
    },
    {
     "data": {
      "image/png": "[encoded data removed]",
      "text/plain": [
       "<Figure size 640x480 with 1 Axes>"
      ]
     },
     "metadata": {},
     "output_type": "display_data"
    },
    {
     "data": {
      "image/png": "[encoded data removed]",
      "text/plain": [
       "<Figure size 640x480 with 1 Axes>"
      ]
     },
     "metadata": {},
     "output_type": "display_data"
    },
    {
     "data": {
      "image/png": "[encoded data removed]",
      "text/plain": [
       "<Figure size 640x480 with 1 Axes>"
      ]
     },
     "metadata": {},
     "output_type": "display_data"
    },
    {
     "data": {
      "image/png": "[encoded data removed]",
      "text/plain": [
       "<Figure size 640x480 with 1 Axes>"
      ]
     },
     "metadata": {},
     "output_type": "display_data"
    },
    {
     "data": {
      "image/png": "[encoded data removed]",
      "text/plain": [
       "<Figure size 640x480 with 1 Axes>"
      ]
     },
     "metadata": {},
     "output_type": "display_data"
    },
    {
     "data": {
      "image/png": "[encoded data removed]",
      "text/plain": [
       "<Figure size 640x480 with 1 Axes>"
      ]
     },
     "metadata": {},
     "output_type": "display_data"
    }
   ],
   "source": [
    "# Check numerical data distribution\n",
    "train_data2['Datum2'] = pd.to_datetime(train_data2['Datum'])\n",
    "\n",
    "for name in train_data2.columns:\n",
    "    if name == 'id' or name == 'Datum' or name == 'Umsatz':\n",
    "        continue\n",
    "    train_data2.plot(kind = 'scatter', x = name, y = 'Umsatz');\n",
    "    plt.show()"
   ]
  },
  {
   "cell_type": "markdown",
   "id": "48e3afa0-ae02-4e8b-9168-df7e1c35c7e6",
   "metadata": {},
   "source": [
    "It seems that six outlier data points are over 1000 Umsatz. Extract them to identify what type of data."
   ]
  },
  {
   "cell_type": "code",
   "execution_count": 13,
   "id": "18fc62d7-4af3-4f06-9ab5-0953e58071e0",
   "metadata": {},
   "outputs": [
    {
     "data": {
      "text/html": [
       "<div>\n",
       "<style scoped>\n",
       "    .dataframe tbody tr th:only-of-type {\n",
       "        vertical-align: middle;\n",
       "    }\n",
       "\n",
       "    .dataframe tbody tr th {\n",
       "        vertical-align: top;\n",
       "    }\n",
       "\n",
       "    .dataframe thead th {\n",
       "        text-align: right;\n",
       "    }\n",
       "</style>\n",
       "<table border=\"1\" class=\"dataframe\">\n",
       "  <thead>\n",
       "    <tr style=\"text-align: right;\">\n",
       "      <th></th>\n",
       "      <th>id</th>\n",
       "      <th>Datum</th>\n",
       "      <th>Warengruppe</th>\n",
       "      <th>Umsatz</th>\n",
       "      <th>Bewoelkung</th>\n",
       "      <th>Temperatur</th>\n",
       "      <th>Windgeschwindigkeit</th>\n",
       "      <th>Wettercode</th>\n",
       "      <th>KielerWoche</th>\n",
       "      <th>Datum2</th>\n",
       "    </tr>\n",
       "  </thead>\n",
       "  <tbody>\n",
       "    <tr>\n",
       "      <th>2119</th>\n",
       "      <td>1405052</td>\n",
       "      <td>2014-05-05</td>\n",
       "      <td>2</td>\n",
       "      <td>1203.431130</td>\n",
       "      <td>8.0</td>\n",
       "      <td>10.7125</td>\n",
       "      <td>6.0</td>\n",
       "      <td>21.0</td>\n",
       "      <td>NaN</td>\n",
       "      <td>2014-05-05</td>\n",
       "    </tr>\n",
       "    <tr>\n",
       "      <th>7403</th>\n",
       "      <td>1312315</td>\n",
       "      <td>2013-12-31</td>\n",
       "      <td>5</td>\n",
       "      <td>1625.690601</td>\n",
       "      <td>4.0</td>\n",
       "      <td>5.0375</td>\n",
       "      <td>7.0</td>\n",
       "      <td>NaN</td>\n",
       "      <td>NaN</td>\n",
       "      <td>2013-12-31</td>\n",
       "    </tr>\n",
       "    <tr>\n",
       "      <th>7760</th>\n",
       "      <td>1412315</td>\n",
       "      <td>2014-12-31</td>\n",
       "      <td>5</td>\n",
       "      <td>1879.461831</td>\n",
       "      <td>6.0</td>\n",
       "      <td>7.3750</td>\n",
       "      <td>11.0</td>\n",
       "      <td>61.0</td>\n",
       "      <td>NaN</td>\n",
       "      <td>2014-12-31</td>\n",
       "    </tr>\n",
       "    <tr>\n",
       "      <th>8120</th>\n",
       "      <td>1512315</td>\n",
       "      <td>2015-12-31</td>\n",
       "      <td>5</td>\n",
       "      <td>1869.937723</td>\n",
       "      <td>7.0</td>\n",
       "      <td>2.0000</td>\n",
       "      <td>10.0</td>\n",
       "      <td>61.0</td>\n",
       "      <td>NaN</td>\n",
       "      <td>2015-12-31</td>\n",
       "    </tr>\n",
       "    <tr>\n",
       "      <th>8476</th>\n",
       "      <td>1612315</td>\n",
       "      <td>2016-12-31</td>\n",
       "      <td>5</td>\n",
       "      <td>1705.144205</td>\n",
       "      <td>7.0</td>\n",
       "      <td>4.8750</td>\n",
       "      <td>13.0</td>\n",
       "      <td>28.0</td>\n",
       "      <td>NaN</td>\n",
       "      <td>2016-12-31</td>\n",
       "    </tr>\n",
       "    <tr>\n",
       "      <th>8833</th>\n",
       "      <td>1712315</td>\n",
       "      <td>2017-12-31</td>\n",
       "      <td>5</td>\n",
       "      <td>1432.422347</td>\n",
       "      <td>7.0</td>\n",
       "      <td>8.2500</td>\n",
       "      <td>16.0</td>\n",
       "      <td>63.0</td>\n",
       "      <td>NaN</td>\n",
       "      <td>2017-12-31</td>\n",
       "    </tr>\n",
       "  </tbody>\n",
       "</table>\n",
       "</div>"
      ],
      "text/plain": [
       "           id       Datum  Warengruppe       Umsatz  Bewoelkung  Temperatur  \\\n",
       "2119  1405052  2014-05-05            2  1203.431130         8.0     10.7125   \n",
       "7403  1312315  2013-12-31            5  1625.690601         4.0      5.0375   \n",
       "7760  1412315  2014-12-31            5  1879.461831         6.0      7.3750   \n",
       "8120  1512315  2015-12-31            5  1869.937723         7.0      2.0000   \n",
       "8476  1612315  2016-12-31            5  1705.144205         7.0      4.8750   \n",
       "8833  1712315  2017-12-31            5  1432.422347         7.0      8.2500   \n",
       "\n",
       "      Windgeschwindigkeit  Wettercode  KielerWoche     Datum2  \n",
       "2119                  6.0        21.0          NaN 2014-05-05  \n",
       "7403                  7.0         NaN          NaN 2013-12-31  \n",
       "7760                 11.0        61.0          NaN 2014-12-31  \n",
       "8120                 10.0        61.0          NaN 2015-12-31  \n",
       "8476                 13.0        28.0          NaN 2016-12-31  \n",
       "8833                 16.0        63.0          NaN 2017-12-31  "
      ]
     },
     "execution_count": 13,
     "metadata": {},
     "output_type": "execute_result"
    }
   ],
   "source": [
    "outlier = train_data2[train_data2['Umsatz'] > 1000]\n",
    "outlier"
   ]
  },
  {
   "cell_type": "markdown",
   "id": "014b8743-61af-43a4-b6e2-29011c011c17",
   "metadata": {},
   "source": [
    "While the five data are the last day of the year, the other one is '2014-05-05'. The last day of the year may be relevant to the result, so consider creating a new feature value later. Delete '2014-05-05'(index:2119) as it seems to be an outlier."
   ]
  },
  {
   "cell_type": "code",
   "execution_count": 14,
   "id": "cfa9e3ed-5b68-4a9e-a355-66919c17455a",
   "metadata": {},
   "outputs": [],
   "source": [
    "train_data3 = train_data2.drop(2119 , axis = 0)"
   ]
  },
  {
   "cell_type": "code",
   "execution_count": 15,
   "id": "4d5307b5-e91a-434f-b898-10300cb7e52c",
   "metadata": {},
   "outputs": [
    {
     "name": "stdout",
     "output_type": "stream",
     "text": [
      "<class 'pandas.core.frame.DataFrame'>\n",
      "Index: 9333 entries, 0 to 9333\n",
      "Data columns (total 10 columns):\n",
      " #   Column               Non-Null Count  Dtype         \n",
      "---  ------               --------------  -----         \n",
      " 0   id                   9333 non-null   int64         \n",
      " 1   Datum                9333 non-null   object        \n",
      " 2   Warengruppe          9333 non-null   int64         \n",
      " 3   Umsatz               9333 non-null   float64       \n",
      " 4   Bewoelkung           9263 non-null   float64       \n",
      " 5   Temperatur           9317 non-null   float64       \n",
      " 6   Windgeschwindigkeit  9317 non-null   float64       \n",
      " 7   Wettercode           7008 non-null   float64       \n",
      " 8   KielerWoche          223 non-null    float64       \n",
      " 9   Datum2               9333 non-null   datetime64[ns]\n",
      "dtypes: datetime64[ns](1), float64(6), int64(2), object(1)\n",
      "memory usage: 802.1+ KB\n"
     ]
    }
   ],
   "source": [
    "train_data3.info()"
   ]
  },
  {
   "cell_type": "markdown",
   "id": "950b4ae7-f85d-4cf1-9490-4e933d6f25b3",
   "metadata": {},
   "source": [
    "Treat missing data.\n",
    "I can see three columns(Bewoelkung, Wettercode, KielerWoche) before merging, but I found Temperatur and Windgeschwindigkeit also have missing data.\n",
    "Check missing data and decide what to do for them. \n",
    "\n",
    "4 Bewoelkung 9263 non-null float64\n",
    "5 Temperatur 9317 non-null float64\n",
    "6 Windgeschwindigkeit 9317 non-null float64\n",
    "7 Wettercode 7008 non-null float64\n",
    "8 KielerWoche 223 non-null float64"
   ]
  },
  {
   "cell_type": "code",
   "execution_count": 16,
   "id": "53ce81d7-a390-4688-9bdb-05769aadf174",
   "metadata": {},
   "outputs": [],
   "source": [
    "# KielerWoche --> Non-KielerWoche flag is set to 0\n",
    "train_data3['KielerWoche'] = train_data3['KielerWoche'].fillna(0)"
   ]
  },
  {
   "cell_type": "code",
   "execution_count": 17,
   "id": "1834ec55-691b-4a42-92df-80763e020903",
   "metadata": {},
   "outputs": [
    {
     "name": "stdout",
     "output_type": "stream",
     "text": [
      "Bewoelkung\n",
      "1236    2016-12-11\n",
      "1526    2017-10-04\n",
      "1527    2017-10-05\n",
      "1551    2017-10-30\n",
      "1552    2017-11-01\n",
      "1553    2017-11-02\n",
      "1554    2017-11-03\n",
      "1555    2017-11-04\n",
      "1556    2017-11-05\n",
      "1557    2017-11-06\n",
      "1558    2017-11-07\n",
      "1559    2017-11-08\n",
      "Name: Datum, dtype: object\n"
     ]
    }
   ],
   "source": [
    "# Bewoelkung/Temperatur/Windgeschwindigkeit/Wettercode\n",
    "# Check missing data date\n",
    "\n",
    "print(\"Bewoelkung\")\n",
    "print(train_data3[train_data3['Bewoelkung'].isnull()]['Datum'].drop_duplicates())"
   ]
  },
  {
   "cell_type": "code",
   "execution_count": 18,
   "id": "9c4264e3-e2e6-4847-b5c2-d6f639eea5e5",
   "metadata": {},
   "outputs": [
    {
     "name": "stdout",
     "output_type": "stream",
     "text": [
      "Temperatur\n",
      "1236    2016-12-11\n",
      "1526    2017-10-04\n",
      "1527    2017-10-05\n",
      "Name: Datum, dtype: object\n"
     ]
    }
   ],
   "source": [
    "print(\"Temperatur\")\n",
    "print(train_data3[train_data3['Temperatur'].isnull()]['Datum'].drop_duplicates())"
   ]
  },
  {
   "cell_type": "code",
   "execution_count": 19,
   "id": "ae98d229-11a4-4f99-bff3-e29ea930b462",
   "metadata": {},
   "outputs": [
    {
     "name": "stdout",
     "output_type": "stream",
     "text": [
      "Windgeschwindigkeit\n",
      "1236    2016-12-11\n",
      "1526    2017-10-04\n",
      "1527    2017-10-05\n",
      "Name: Datum, dtype: object\n"
     ]
    }
   ],
   "source": [
    "print(\"Windgeschwindigkeit\")\n",
    "print(train_data3[train_data3['Windgeschwindigkeit'].isnull()]['Datum'].drop_duplicates())"
   ]
  },
  {
   "cell_type": "code",
   "execution_count": 20,
   "id": "f375e6a3-9c57-40c5-b450-a4fd4a36b20b",
   "metadata": {},
   "outputs": [
    {
     "name": "stdout",
     "output_type": "stream",
     "text": [
      "Wettercode\n",
      "1       2013-07-02\n",
      "4       2013-07-05\n",
      "5       2013-07-06\n",
      "6       2013-07-07\n",
      "8       2013-07-09\n",
      "           ...    \n",
      "1804    2018-07-17\n",
      "1806    2018-07-19\n",
      "1810    2018-07-23\n",
      "1816    2018-07-29\n",
      "1818    2018-07-31\n",
      "Name: Datum, Length: 459, dtype: object\n"
     ]
    }
   ],
   "source": [
    "print(\"Wettercode\")\n",
    "print(train_data3[train_data3['Wettercode'].isnull()]['Datum'].drop_duplicates())"
   ]
  },
  {
   "cell_type": "code",
   "execution_count": 21,
   "id": "145713c8-2bd4-43fe-9bb7-565bd162990d",
   "metadata": {},
   "outputs": [
    {
     "name": "stdout",
     "output_type": "stream",
     "text": [
      "Index([], dtype='int64')\n",
      "Index([], dtype='int64')\n",
      "Index([], dtype='int64')\n"
     ]
    }
   ],
   "source": [
    "# 2016-12-11 / 2017-10-04 / 2017-10-05 are commonly missing\n",
    "# Check if it exists in wetter\n",
    "print(wetter[wetter['Datum'] == \"2016-12-11\"].index)\n",
    "print(wetter[wetter['Datum'] == \"2017-10-04\"].index)\n",
    "print(wetter[wetter['Datum'] == \"2017-10-05\"].index)"
   ]
  },
  {
   "cell_type": "markdown",
   "id": "1f2fab3d-6287-4bd9-a407-a82341be96a1",
   "metadata": {},
   "source": [
    "Since these three dates(2016-12-11 / 2017-10-04 / 2017-10-05) did not exist initially, remove them from train_data3."
   ]
  },
  {
   "cell_type": "code",
   "execution_count": 22,
   "id": "f8626c5c-8bba-41c4-a0b4-7194b04726ef",
   "metadata": {},
   "outputs": [
    {
     "name": "stdout",
     "output_type": "stream",
     "text": [
      "<class 'pandas.core.frame.DataFrame'>\n",
      "Index: 9317 entries, 0 to 9333\n",
      "Data columns (total 10 columns):\n",
      " #   Column               Non-Null Count  Dtype         \n",
      "---  ------               --------------  -----         \n",
      " 0   id                   9317 non-null   int64         \n",
      " 1   Datum                9317 non-null   object        \n",
      " 2   Warengruppe          9317 non-null   int64         \n",
      " 3   Umsatz               9317 non-null   float64       \n",
      " 4   Bewoelkung           9263 non-null   float64       \n",
      " 5   Temperatur           9317 non-null   float64       \n",
      " 6   Windgeschwindigkeit  9317 non-null   float64       \n",
      " 7   Wettercode           7008 non-null   float64       \n",
      " 8   KielerWoche          9317 non-null   float64       \n",
      " 9   Datum2               9317 non-null   datetime64[ns]\n",
      "dtypes: datetime64[ns](1), float64(6), int64(2), object(1)\n",
      "memory usage: 800.7+ KB\n"
     ]
    }
   ],
   "source": [
    "train_data4 = train_data3[~train_data3['Datum'].isin([\"2016-12-11\", \"2017-10-04\", \"2017-10-05\"])]\n",
    "train_data4.info()"
   ]
  },
  {
   "cell_type": "markdown",
   "id": "158ef7d6-5ca5-4f2e-b4b4-59b0e852f822",
   "metadata": {},
   "source": [
    "Resolved missing data in Temperatur and Windgeschwindigkeit.\n",
    "\n",
    "As for Bewoelkung / Wettercode, predict them with other climate columns (Temperatur/Windgeschwindigkeit). \n",
    "At first, predict Bewoelkung from Temperatur/Windgeschwindigkeit, then, predict Wettercode from Temperatur/Windgeschwindigkeit/Bewoelkung.\n",
    "\n",
    "Use DecisionTreeClassifier because both of them are classification data. In this case, skip both splitting train/test data and exploring the best model."
   ]
  },
  {
   "cell_type": "code",
   "execution_count": 23,
   "id": "80dcd070-eeaa-4742-a4b2-3ac578d51acc",
   "metadata": {},
   "outputs": [],
   "source": [
    "# Extract 'Bewoelkung' missing data\n",
    "cond_fillBe = train_data4['Bewoelkung'].isnull()\n",
    "non_fillBe = train_data4.loc[cond_fillBe]\n",
    "fillBe = non_fillBe.loc[:, ['Temperatur', 'Windgeschwindigkeit']]\n",
    "\n",
    "# Delete 'Bewoelkung' missing data\n",
    "train_fillBe = train_data4.dropna(subset=['Bewoelkung'])\n",
    "X_fillBe = train_fillBe[['Temperatur', 'Windgeschwindigkeit']]\n",
    "y_fillBe = train_fillBe[['Bewoelkung']]\n",
    "\n",
    "# Predict missing 'Bewoelkung' data\n",
    "from sklearn.tree import DecisionTreeClassifier\n",
    "\n",
    "model_fillBe = DecisionTreeClassifier(max_depth = 5, random_state = 0, class_weight ='balanced')\n",
    "model_fillBe.fit(X_fillBe, y_fillBe)\n",
    "pred_fillBe = model_fillBe.predict(fillBe)\n",
    "\n",
    "train_data4.loc[cond_fillBe, 'Bewoelkung'] = pred_fillBe"
   ]
  },
  {
   "cell_type": "code",
   "execution_count": 24,
   "id": "30b3a58b-27bb-4dba-91e5-041dcb48dbee",
   "metadata": {},
   "outputs": [
    {
     "name": "stdout",
     "output_type": "stream",
     "text": [
      "<class 'pandas.core.frame.DataFrame'>\n",
      "Index: 9317 entries, 0 to 9333\n",
      "Data columns (total 10 columns):\n",
      " #   Column               Non-Null Count  Dtype         \n",
      "---  ------               --------------  -----         \n",
      " 0   id                   9317 non-null   int64         \n",
      " 1   Datum                9317 non-null   object        \n",
      " 2   Warengruppe          9317 non-null   int64         \n",
      " 3   Umsatz               9317 non-null   float64       \n",
      " 4   Bewoelkung           9317 non-null   float64       \n",
      " 5   Temperatur           9317 non-null   float64       \n",
      " 6   Windgeschwindigkeit  9317 non-null   float64       \n",
      " 7   Wettercode           7008 non-null   float64       \n",
      " 8   KielerWoche          9317 non-null   float64       \n",
      " 9   Datum2               9317 non-null   datetime64[ns]\n",
      "dtypes: datetime64[ns](1), float64(6), int64(2), object(1)\n",
      "memory usage: 800.7+ KB\n"
     ]
    }
   ],
   "source": [
    "train_data4.info()"
   ]
  },
  {
   "cell_type": "code",
   "execution_count": 25,
   "id": "912b2182-62c1-40fd-8528-c06bc14f5acf",
   "metadata": {},
   "outputs": [],
   "source": [
    "# Extract 'Wettercode' missing data\n",
    "cond_fillWe = train_data4['Wettercode'].isnull()\n",
    "non_fillWe = train_data4.loc[cond_fillWe]\n",
    "fillWe = non_fillWe.loc[:, ['Bewoelkung', 'Temperatur', 'Windgeschwindigkeit']]\n",
    "\n",
    "# Delete 'Wettercode' missing data\n",
    "train_fillWe = train_data4.dropna(subset=['Wettercode'])\n",
    "X_fillWe = train_fillWe[['Bewoelkung', 'Temperatur', 'Windgeschwindigkeit']]\n",
    "y_fillWe = train_fillWe[['Wettercode']]\n",
    "\n",
    "# Predict missing 'Wettercode' data\n",
    "# from sklearn.tree import DecisionTreeClassifier\n",
    "\n",
    "model_fillWe = DecisionTreeClassifier(max_depth = 5, random_state = 0, class_weight ='balanced')\n",
    "model_fillWe.fit(X_fillWe, y_fillWe)\n",
    "pred_fillWe = model_fillWe.predict(fillWe)\n",
    "\n",
    "train_data4.loc[cond_fillWe, 'Wettercode'] = pred_fillWe"
   ]
  },
  {
   "cell_type": "code",
   "execution_count": 26,
   "id": "959bed2c-70f1-44e4-8ef5-7b89328e8f82",
   "metadata": {},
   "outputs": [
    {
     "name": "stdout",
     "output_type": "stream",
     "text": [
      "<class 'pandas.core.frame.DataFrame'>\n",
      "Index: 9317 entries, 0 to 9333\n",
      "Data columns (total 10 columns):\n",
      " #   Column               Non-Null Count  Dtype         \n",
      "---  ------               --------------  -----         \n",
      " 0   id                   9317 non-null   int64         \n",
      " 1   Datum                9317 non-null   object        \n",
      " 2   Warengruppe          9317 non-null   int64         \n",
      " 3   Umsatz               9317 non-null   float64       \n",
      " 4   Bewoelkung           9317 non-null   float64       \n",
      " 5   Temperatur           9317 non-null   float64       \n",
      " 6   Windgeschwindigkeit  9317 non-null   float64       \n",
      " 7   Wettercode           9317 non-null   float64       \n",
      " 8   KielerWoche          9317 non-null   float64       \n",
      " 9   Datum2               9317 non-null   datetime64[ns]\n",
      "dtypes: datetime64[ns](1), float64(6), int64(2), object(1)\n",
      "memory usage: 800.7+ KB\n"
     ]
    }
   ],
   "source": [
    "train_data4.info()"
   ]
  },
  {
   "cell_type": "markdown",
   "id": "ea5c02f1-673f-49c6-ba72-b2ca51d29319",
   "metadata": {},
   "source": [
    "Completed treatment of the missing value. Then, change some feature values."
   ]
  },
  {
   "cell_type": "code",
   "execution_count": 27,
   "id": "cca3d986-0bc0-4866-ad4e-71da65c7913c",
   "metadata": {},
   "outputs": [
    {
     "name": "stderr",
     "output_type": "stream",
     "text": [
      "/var/folders/v7/gyj7_4r90yj498l4d9f_2ggw0000gn/T/ipykernel_686/2763324543.py:2: SettingWithCopyWarning: \n",
      "A value is trying to be set on a copy of a slice from a DataFrame.\n",
      "Try using .loc[row_indexer,col_indexer] = value instead\n",
      "\n",
      "See the caveats in the documentation: https://pandas.pydata.org/pandas-docs/stable/user_guide/indexing.html#returning-a-view-versus-a-copy\n",
      "  train_data4['Year'] = train_data4['Datum2'].dt.year\n",
      "/var/folders/v7/gyj7_4r90yj498l4d9f_2ggw0000gn/T/ipykernel_686/2763324543.py:3: SettingWithCopyWarning: \n",
      "A value is trying to be set on a copy of a slice from a DataFrame.\n",
      "Try using .loc[row_indexer,col_indexer] = value instead\n",
      "\n",
      "See the caveats in the documentation: https://pandas.pydata.org/pandas-docs/stable/user_guide/indexing.html#returning-a-view-versus-a-copy\n",
      "  train_data4['Month'] = train_data4['Datum2'].dt.month\n",
      "/var/folders/v7/gyj7_4r90yj498l4d9f_2ggw0000gn/T/ipykernel_686/2763324543.py:4: SettingWithCopyWarning: \n",
      "A value is trying to be set on a copy of a slice from a DataFrame.\n",
      "Try using .loc[row_indexer,col_indexer] = value instead\n",
      "\n",
      "See the caveats in the documentation: https://pandas.pydata.org/pandas-docs/stable/user_guide/indexing.html#returning-a-view-versus-a-copy\n",
      "  train_data4['Day'] = train_data4['Datum2'].dt.day\n"
     ]
    }
   ],
   "source": [
    "# Change 'Datum2' into 'Year'/'Month'/'Day'\n",
    "train_data4['Year'] = train_data4['Datum2'].dt.year\n",
    "train_data4['Month'] = train_data4['Datum2'].dt.month\n",
    "train_data4['Day'] = train_data4['Datum2'].dt.day"
   ]
  },
  {
   "cell_type": "code",
   "execution_count": 28,
   "id": "09866dc0-999e-4d32-b04e-ccd6665e1b33",
   "metadata": {},
   "outputs": [],
   "source": [
    "# Create train_data5 for final train data\n",
    "train_data5 = train_data4.drop(columns=['id', 'Datum', 'Datum2'])"
   ]
  },
  {
   "cell_type": "markdown",
   "id": "0659fc46-1900-4525-aefa-10dbaf6c0bd9",
   "metadata": {},
   "source": [
    "According to the dataset description, Warengruppe/Wettercode are numbers(int64/float64), but they should be categorical data. Therefore, need to convert the following into one-hot encoding (using pd.get_dummies)."
   ]
  },
  {
   "cell_type": "code",
   "execution_count": 29,
   "id": "1b160348-6b79-4710-a438-b365c4b54d3a",
   "metadata": {},
   "outputs": [
    {
     "data": {
      "text/plain": [
       "(9317, 37)"
      ]
     },
     "execution_count": 29,
     "metadata": {},
     "output_type": "execute_result"
    }
   ],
   "source": [
    "train_data5 = pd.get_dummies(train_data5, columns = ['Warengruppe', 'Wettercode'] ,drop_first = False, dtype = int)\n",
    "train_data5.shape"
   ]
  },
  {
   "cell_type": "code",
   "execution_count": 30,
   "id": "46ec060c-0281-48c7-9e2f-0f88dc628bbb",
   "metadata": {},
   "outputs": [
    {
     "name": "stdout",
     "output_type": "stream",
     "text": [
      "<class 'pandas.core.frame.DataFrame'>\n",
      "Index: 9317 entries, 0 to 9333\n",
      "Data columns (total 37 columns):\n",
      " #   Column               Non-Null Count  Dtype  \n",
      "---  ------               --------------  -----  \n",
      " 0   Umsatz               9317 non-null   float64\n",
      " 1   Bewoelkung           9317 non-null   float64\n",
      " 2   Temperatur           9317 non-null   float64\n",
      " 3   Windgeschwindigkeit  9317 non-null   float64\n",
      " 4   KielerWoche          9317 non-null   float64\n",
      " 5   Year                 9317 non-null   int32  \n",
      " 6   Month                9317 non-null   int32  \n",
      " 7   Day                  9317 non-null   int32  \n",
      " 8   Warengruppe_1        9317 non-null   int64  \n",
      " 9   Warengruppe_2        9317 non-null   int64  \n",
      " 10  Warengruppe_3        9317 non-null   int64  \n",
      " 11  Warengruppe_4        9317 non-null   int64  \n",
      " 12  Warengruppe_5        9317 non-null   int64  \n",
      " 13  Warengruppe_6        9317 non-null   int64  \n",
      " 14  Wettercode_0.0       9317 non-null   int64  \n",
      " 15  Wettercode_3.0       9317 non-null   int64  \n",
      " 16  Wettercode_5.0       9317 non-null   int64  \n",
      " 17  Wettercode_10.0      9317 non-null   int64  \n",
      " 18  Wettercode_17.0      9317 non-null   int64  \n",
      " 19  Wettercode_20.0      9317 non-null   int64  \n",
      " 20  Wettercode_21.0      9317 non-null   int64  \n",
      " 21  Wettercode_22.0      9317 non-null   int64  \n",
      " 22  Wettercode_28.0      9317 non-null   int64  \n",
      " 23  Wettercode_45.0      9317 non-null   int64  \n",
      " 24  Wettercode_49.0      9317 non-null   int64  \n",
      " 25  Wettercode_53.0      9317 non-null   int64  \n",
      " 26  Wettercode_61.0      9317 non-null   int64  \n",
      " 27  Wettercode_63.0      9317 non-null   int64  \n",
      " 28  Wettercode_65.0      9317 non-null   int64  \n",
      " 29  Wettercode_68.0      9317 non-null   int64  \n",
      " 30  Wettercode_69.0      9317 non-null   int64  \n",
      " 31  Wettercode_71.0      9317 non-null   int64  \n",
      " 32  Wettercode_73.0      9317 non-null   int64  \n",
      " 33  Wettercode_75.0      9317 non-null   int64  \n",
      " 34  Wettercode_77.0      9317 non-null   int64  \n",
      " 35  Wettercode_79.0      9317 non-null   int64  \n",
      " 36  Wettercode_95.0      9317 non-null   int64  \n",
      "dtypes: float64(5), int32(3), int64(29)\n",
      "memory usage: 2.6 MB\n"
     ]
    }
   ],
   "source": [
    "train_data5.to_csv('../data/train_data5.csv', index=False)\n",
    "train_data5.info()"
   ]
  },
  {
   "cell_type": "markdown",
   "id": "e7df533d-2c7f-497f-978f-40b6ba6bd8be",
   "metadata": {},
   "source": [
    "Identify the important feature values by the correlation coefficient."
   ]
  },
  {
   "cell_type": "code",
   "execution_count": 31,
   "id": "ddb24bd3-a9a2-46f6-bd54-0dc1e76c0250",
   "metadata": {},
   "outputs": [],
   "source": [
    "train_data5_corr = train_data5.corr().loc['Umsatz', 'Bewoelkung':].abs().sort_values(ascending=False)\n",
    "train_data5_corr.to_csv('../data/train_data5_corr.csv', index=True)"
   ]
  },
  {
   "cell_type": "code",
   "execution_count": 32,
   "id": "a281a041-b8cb-4e59-abc1-0c0757c1f742",
   "metadata": {},
   "outputs": [],
   "source": [
    "# Create function\n",
    "def model_linear_func(train_data, feature_list):\n",
    "    X = train_data[feature_list]\n",
    "    y = train_data[['Umsatz']]\n",
    "\n",
    "    # Split train/val data\n",
    "    X_train,X_val,y_train,y_val = train_test_split(X, y, test_size = 0.2, random_state = 0)\n",
    "\n",
    "    # Standardize data\n",
    "    sc_model_X = StandardScaler()\n",
    "    sc_model_X.fit(X_train)\n",
    "    sc_X = sc_model_X.transform(X_train)\n",
    "    \n",
    "    sc_model_y = StandardScaler()\n",
    "    sc_model_y.fit(y_train)\n",
    "    sc_y = sc_model_y.transform(y_train)\n",
    "    \n",
    "    sc_X_val = sc_model_X.transform(X_val)\n",
    "    sc_y_val = sc_model_y.transform(y_val)\n",
    "\n",
    "    model_linear = LinearRegression()\n",
    "    model_linear.fit(sc_X, sc_y)\n",
    "            \n",
    "    return model_linear.score(sc_X_val, sc_y_val)"
   ]
  },
  {
   "cell_type": "code",
   "execution_count": 33,
   "id": "b3667e6c-8694-46a5-add3-371d2cfbefd5",
   "metadata": {},
   "outputs": [
    {
     "data": {
      "text/plain": [
       "0.6521786239870906"
      ]
     },
     "execution_count": 33,
     "metadata": {},
     "output_type": "execute_result"
    }
   ],
   "source": [
    "# Firstly set feature values with corr>0.05\n",
    "feature_list = list(train_data5_corr[train_data5_corr>0.05].index)\n",
    "model_linear_func(train_data5, feature_list)"
   ]
  },
  {
   "cell_type": "code",
   "execution_count": 34,
   "id": "d5879d91-a080-476d-b0ee-03a0a6ed37db",
   "metadata": {},
   "outputs": [],
   "source": [
    "# Create new features (if the day is the last of the year)\n",
    "train_data6 = train_data5.copy()\n",
    "train_data6['is_year_end'] = (train_data6['Month'] == 12) & (train_data6['Day'] == 31)\n",
    "train_data6['is_year_end'] = train_data6['is_year_end'].astype(int)"
   ]
  },
  {
   "cell_type": "code",
   "execution_count": 35,
   "id": "aba48551-7184-43f9-83fe-6033035d7a55",
   "metadata": {},
   "outputs": [
    {
     "data": {
      "text/plain": [
       "0.6896481195329365"
      ]
     },
     "execution_count": 35,
     "metadata": {},
     "output_type": "execute_result"
    }
   ],
   "source": [
    "feature_list2 = train_data6.drop(columns=['Umsatz']).columns.tolist()\n",
    "model_linear_func(train_data6, feature_list2)"
   ]
  },
  {
   "cell_type": "markdown",
   "id": "feea444e-e484-4470-a34f-17e9c39891a2",
   "metadata": {},
   "source": [
    "The score improved.\n",
    "Narrow down to feature values whose correlation coefficient with 'Umsatz' is over 0.05."
   ]
  },
  {
   "cell_type": "code",
   "execution_count": 36,
   "id": "84a78b31-c01b-4fda-a934-9f9b536f45df",
   "metadata": {},
   "outputs": [],
   "source": [
    "train_data6_corr = train_data6.corr().loc['Umsatz', 'Bewoelkung':].abs().sort_values(ascending=False)\n",
    "train_data6_corr.to_csv('../data/train_data6_corr.csv', index=True)"
   ]
  },
  {
   "cell_type": "code",
   "execution_count": 37,
   "id": "12487763-8c04-472d-ab8b-c67bfdb5ab02",
   "metadata": {},
   "outputs": [
    {
     "data": {
      "text/plain": [
       "0.6912408487435703"
      ]
     },
     "execution_count": 37,
     "metadata": {},
     "output_type": "execute_result"
    }
   ],
   "source": [
    "feature_list3 = list(train_data6_corr[train_data6_corr>0.05].index)\n",
    "model_linear_func(train_data6, feature_list3)"
   ]
  },
  {
   "cell_type": "markdown",
   "id": "888342ee-e371-4f37-a348-300b28283643",
   "metadata": {},
   "source": [
    "The score improved and try XGBRegressor."
   ]
  },
  {
   "cell_type": "code",
   "execution_count": 38,
   "id": "cbd03e7e-32c3-418e-898c-c3ead2949eff",
   "metadata": {},
   "outputs": [
    {
     "name": "stdout",
     "output_type": "stream",
     "text": [
      "{'learning_rate': 0.09, 'max_depth': 4, 'n_estimators': 500, 'n_jobs': 1, 'subsample': 1.0, 'tree_method': 'hist'}\n",
      "0.8146403431892395\n"
     ]
    }
   ],
   "source": [
    "# XGBRegressor/GridSearchCV\n",
    "from xgboost import XGBRegressor\n",
    "from sklearn.model_selection import GridSearchCV\n",
    "\n",
    "params_XGBR = {\n",
    "    'n_estimators': [400, 450, 500],\n",
    "    'max_depth': [4, 5, 6],\n",
    "    'learning_rate': [0.08, 0.09, 0.1],\n",
    "    'subsample': [0.8, 1.0],\n",
    "    'n_jobs': [1],\n",
    "    'tree_method': ['hist']\n",
    "}\n",
    "\n",
    "X_XGBR = train_data6[feature_list3]\n",
    "y_XGBR = train_data6[['Umsatz']]\n",
    "\n",
    "X_XGBR_train, X_XGBR_X_val, y_XGBR_train, y_XGBR_y_val = train_test_split(X_XGBR, y_XGBR, test_size = 0.2, random_state = 0)\n",
    "\n",
    "grid_XGBR = GridSearchCV(XGBRegressor(), params_XGBR, cv=5, scoring='r2')\n",
    "grid_XGBR.fit(X_XGBR_train, y_XGBR_train)\n",
    "print(grid_XGBR.best_params_)\n",
    "print(grid_XGBR.best_score_)"
   ]
  },
  {
   "cell_type": "markdown",
   "id": "270419b6-1e5c-4c55-97af-4e90fd4cc0cb",
   "metadata": {},
   "source": [
    "Check if other method can improve the score.\n",
    "(1) LGBMRegressor\n",
    "(2) CatBoostRegressor"
   ]
  },
  {
   "cell_type": "code",
   "execution_count": 39,
   "id": "acf03a6a-5efc-4a6d-8eeb-98f959376015",
   "metadata": {},
   "outputs": [
    {
     "name": "stdout",
     "output_type": "stream",
     "text": [
      "{'colsample_bytree': 1.0, 'learning_rate': 0.11, 'max_depth': 6, 'n_estimators': 500, 'n_jobs': 1, 'num_leaves': 11, 'subsample': 0.8, 'verbose': -1}\n",
      "0.7810362122483514\n"
     ]
    }
   ],
   "source": [
    "# tuning GridSearchCV for params_lightgbm\n",
    "from lightgbm import LGBMRegressor\n",
    "\n",
    "params_lightgbm = {\n",
    "    'colsample_bytree': [0.8, 1.0],\n",
    "    'learning_rate': [0.09, 0.1, 0.11],\n",
    "    'max_depth': [5, 6, 7],\n",
    "    'n_estimators': [300, 400, 500],\n",
    "    'num_leaves': [9, 10, 11],\n",
    "    'subsample': [0.8, 1.0],\n",
    "    'n_jobs': [1],\n",
    "    'verbose' : [-1]\n",
    "}\n",
    "\n",
    "X_LGBM = train_data6[feature_list3]\n",
    "y_LGBM = train_data6[['Umsatz']]\n",
    "\n",
    "X_LGBM_train, X_LGBM_X_val, y_LGBM_train, y_LGBM_y_val = train_test_split(X_LGBM, y_LGBM, test_size = 0.2, random_state = 0)\n",
    "\n",
    "grid_lightgbm = GridSearchCV(LGBMRegressor(), params_lightgbm, cv=5, scoring='r2')\n",
    "grid_lightgbm.fit(X_LGBM_train, y_LGBM_train)\n",
    "print(grid_lightgbm.best_params_)\n",
    "print(grid_lightgbm.best_score_)"
   ]
  },
  {
   "cell_type": "code",
   "execution_count": 40,
   "id": "9849d89a-c3e2-421f-986b-c6a9c894c8bb",
   "metadata": {},
   "outputs": [
    {
     "name": "stdout",
     "output_type": "stream",
     "text": [
      "{'depth': 5, 'iterations': 500, 'learning_rate': 0.11, 'random_seed': 0, 'verbose': 0}\n",
      "0.8121702050185338\n"
     ]
    }
   ],
   "source": [
    "# tuning GridSearchCV for params_catboost\n",
    "from catboost import CatBoostRegressor\n",
    "\n",
    "params_catboost = {\n",
    "    'iterations': [300, 400, 500],\n",
    "    'learning_rate': [0.1, 0.11, 0.12],\n",
    "    'depth': [4, 5, 6],\n",
    "    'random_seed': [0],\n",
    "    'verbose' : [0]\n",
    "}\n",
    "\n",
    "X_CatB = train_data6[feature_list3]\n",
    "y_CatB = train_data6[['Umsatz']]\n",
    "\n",
    "X_CatB_train, X_CatB_X_val, y_CatB_train, y_CatB_y_val = train_test_split(X_CatB, y_CatB, test_size = 0.2, random_state = 0)\n",
    "\n",
    "grid_catboost = GridSearchCV(CatBoostRegressor(), params_catboost, cv=5, scoring='r2')\n",
    "grid_catboost.fit(X_CatB_train, y_CatB_train)\n",
    "print(grid_catboost.best_params_)\n",
    "print(grid_catboost.best_score_)"
   ]
  },
  {
   "cell_type": "markdown",
   "id": "6290bffc-3e14-4fb2-9e1c-ec48ecf50ad4",
   "metadata": {},
   "source": [
    "Compare the validation data for XGBRegressor/CatBoostRegressor."
   ]
  },
  {
   "cell_type": "code",
   "execution_count": 41,
   "id": "b590256b-fd12-481f-af07-985ef7a063a5",
   "metadata": {},
   "outputs": [
    {
     "data": {
      "text/plain": [
       "0.8357206583023071"
      ]
     },
     "execution_count": 41,
     "metadata": {},
     "output_type": "execute_result"
    }
   ],
   "source": [
    "model_XGBR = XGBRegressor(n_estimators=500, max_depth=4, learning_rate=0.09, subsample=1.0)\n",
    "model_XGBR.fit(X_XGBR_train, y_XGBR_train)\n",
    "model_XGBR.score(X_XGBR_X_val, y_XGBR_y_val)"
   ]
  },
  {
   "cell_type": "code",
   "execution_count": 42,
   "id": "7369f71f-1871-4ba4-adcf-ba5725f6a3f5",
   "metadata": {},
   "outputs": [
    {
     "data": {
      "text/plain": [
       "0.8355891736918792"
      ]
     },
     "execution_count": 42,
     "metadata": {},
     "output_type": "execute_result"
    }
   ],
   "source": [
    "model_CatB = CatBoostRegressor(iterations=500, depth=5, learning_rate=0.11, random_seed=0, verbose=0)\n",
    "model_CatB.fit(X_CatB_train, y_CatB_train)\n",
    "model_CatB.score(X_CatB_X_val, y_CatB_y_val)"
   ]
  },
  {
   "cell_type": "markdown",
   "id": "dac17c23-fe19-4fce-8273-683f78c2827d",
   "metadata": {},
   "source": [
    "XGBRegressor (Max: train data)0.8146403431892395 --> (val data) 0.8357206583023071\n",
    "CatBoostRegressor (Max: train data)0.8121702050185338 --> (val data) 0.8355891736918792\n",
    "The result of XGBRegressor is slightly better than CatBoostRegressor, so predict by XGBRegressor."
   ]
  },
  {
   "cell_type": "code",
   "execution_count": 43,
   "id": "40bd04af-67c2-46bf-b0ac-375764e7a1cf",
   "metadata": {},
   "outputs": [
    {
     "data": {
      "text/html": [
       "<div>\n",
       "<style scoped>\n",
       "    .dataframe tbody tr th:only-of-type {\n",
       "        vertical-align: middle;\n",
       "    }\n",
       "\n",
       "    .dataframe tbody tr th {\n",
       "        vertical-align: top;\n",
       "    }\n",
       "\n",
       "    .dataframe thead th {\n",
       "        text-align: right;\n",
       "    }\n",
       "</style>\n",
       "<table border=\"1\" class=\"dataframe\">\n",
       "  <thead>\n",
       "    <tr style=\"text-align: right;\">\n",
       "      <th></th>\n",
       "      <th>id</th>\n",
       "      <th>Datum</th>\n",
       "      <th>Warengruppe</th>\n",
       "    </tr>\n",
       "  </thead>\n",
       "  <tbody>\n",
       "    <tr>\n",
       "      <th>0</th>\n",
       "      <td>1808011</td>\n",
       "      <td>2018-08-01</td>\n",
       "      <td>1</td>\n",
       "    </tr>\n",
       "    <tr>\n",
       "      <th>1</th>\n",
       "      <td>1808021</td>\n",
       "      <td>2018-08-02</td>\n",
       "      <td>1</td>\n",
       "    </tr>\n",
       "    <tr>\n",
       "      <th>2</th>\n",
       "      <td>1808031</td>\n",
       "      <td>2018-08-03</td>\n",
       "      <td>1</td>\n",
       "    </tr>\n",
       "    <tr>\n",
       "      <th>3</th>\n",
       "      <td>1808041</td>\n",
       "      <td>2018-08-04</td>\n",
       "      <td>1</td>\n",
       "    </tr>\n",
       "    <tr>\n",
       "      <th>4</th>\n",
       "      <td>1808051</td>\n",
       "      <td>2018-08-05</td>\n",
       "      <td>1</td>\n",
       "    </tr>\n",
       "  </tbody>\n",
       "</table>\n",
       "</div>"
      ],
      "text/plain": [
       "        id       Datum  Warengruppe\n",
       "0  1808011  2018-08-01            1\n",
       "1  1808021  2018-08-02            1\n",
       "2  1808031  2018-08-03            1\n",
       "3  1808041  2018-08-04            1\n",
       "4  1808051  2018-08-05            1"
      ]
     },
     "execution_count": 43,
     "metadata": {},
     "output_type": "execute_result"
    }
   ],
   "source": [
    "# Load / Check the dataset (test_data)\n",
    "test_data = pd.read_csv(\"../data/test.csv\")\n",
    "test_data.head()"
   ]
  },
  {
   "cell_type": "code",
   "execution_count": 44,
   "id": "ac7d2e30-2f31-4e24-8b1d-baf43825de59",
   "metadata": {},
   "outputs": [
    {
     "name": "stdout",
     "output_type": "stream",
     "text": [
      "<class 'pandas.core.frame.DataFrame'>\n",
      "RangeIndex: 1830 entries, 0 to 1829\n",
      "Data columns (total 3 columns):\n",
      " #   Column       Non-Null Count  Dtype \n",
      "---  ------       --------------  ----- \n",
      " 0   id           1830 non-null   int64 \n",
      " 1   Datum        1830 non-null   object\n",
      " 2   Warengruppe  1830 non-null   int64 \n",
      "dtypes: int64(2), object(1)\n",
      "memory usage: 43.0+ KB\n"
     ]
    }
   ],
   "source": [
    "test_data.info()"
   ]
  },
  {
   "cell_type": "code",
   "execution_count": 45,
   "id": "d581d527-ef09-410d-a383-41c99515151b",
   "metadata": {},
   "outputs": [],
   "source": [
    "# Merge train data, wetter, and kiwo\n",
    "# Since cannot merge multiple datasets at once, merge them in two phases.\n",
    "# (first: test_data + wetter, second: test_data2 + kiwo)\n",
    "\n",
    "test_data2 = test_data.merge(wetter, how = 'left', on = 'Datum')\n",
    "test_data2 = test_data2.merge(kiwo, how = 'left', on = 'Datum')\n",
    "\n",
    "test_data2['Datum2'] = pd.to_datetime(test_data2['Datum'])"
   ]
  },
  {
   "cell_type": "code",
   "execution_count": 46,
   "id": "5cb5d5f1-659a-4271-b9c2-49619d7f1469",
   "metadata": {},
   "outputs": [
    {
     "data": {
      "text/html": [
       "<div>\n",
       "<style scoped>\n",
       "    .dataframe tbody tr th:only-of-type {\n",
       "        vertical-align: middle;\n",
       "    }\n",
       "\n",
       "    .dataframe tbody tr th {\n",
       "        vertical-align: top;\n",
       "    }\n",
       "\n",
       "    .dataframe thead th {\n",
       "        text-align: right;\n",
       "    }\n",
       "</style>\n",
       "<table border=\"1\" class=\"dataframe\">\n",
       "  <thead>\n",
       "    <tr style=\"text-align: right;\">\n",
       "      <th></th>\n",
       "      <th>id</th>\n",
       "      <th>Datum</th>\n",
       "      <th>Warengruppe</th>\n",
       "      <th>Bewoelkung</th>\n",
       "      <th>Temperatur</th>\n",
       "      <th>Windgeschwindigkeit</th>\n",
       "      <th>Wettercode</th>\n",
       "      <th>KielerWoche</th>\n",
       "      <th>Datum2</th>\n",
       "    </tr>\n",
       "  </thead>\n",
       "  <tbody>\n",
       "    <tr>\n",
       "      <th>0</th>\n",
       "      <td>1808011</td>\n",
       "      <td>2018-08-01</td>\n",
       "      <td>1</td>\n",
       "      <td>0.0</td>\n",
       "      <td>23.7625</td>\n",
       "      <td>10.0</td>\n",
       "      <td>0.0</td>\n",
       "      <td>NaN</td>\n",
       "      <td>2018-08-01</td>\n",
       "    </tr>\n",
       "    <tr>\n",
       "      <th>1</th>\n",
       "      <td>1808021</td>\n",
       "      <td>2018-08-02</td>\n",
       "      <td>1</td>\n",
       "      <td>0.0</td>\n",
       "      <td>26.1875</td>\n",
       "      <td>10.0</td>\n",
       "      <td>0.0</td>\n",
       "      <td>NaN</td>\n",
       "      <td>2018-08-02</td>\n",
       "    </tr>\n",
       "    <tr>\n",
       "      <th>2</th>\n",
       "      <td>1808031</td>\n",
       "      <td>2018-08-03</td>\n",
       "      <td>1</td>\n",
       "      <td>1.0</td>\n",
       "      <td>27.6625</td>\n",
       "      <td>10.0</td>\n",
       "      <td>0.0</td>\n",
       "      <td>NaN</td>\n",
       "      <td>2018-08-03</td>\n",
       "    </tr>\n",
       "    <tr>\n",
       "      <th>3</th>\n",
       "      <td>1808041</td>\n",
       "      <td>2018-08-04</td>\n",
       "      <td>1</td>\n",
       "      <td>4.0</td>\n",
       "      <td>25.1375</td>\n",
       "      <td>12.0</td>\n",
       "      <td>NaN</td>\n",
       "      <td>NaN</td>\n",
       "      <td>2018-08-04</td>\n",
       "    </tr>\n",
       "    <tr>\n",
       "      <th>4</th>\n",
       "      <td>1808051</td>\n",
       "      <td>2018-08-05</td>\n",
       "      <td>1</td>\n",
       "      <td>7.0</td>\n",
       "      <td>21.3000</td>\n",
       "      <td>14.0</td>\n",
       "      <td>61.0</td>\n",
       "      <td>NaN</td>\n",
       "      <td>2018-08-05</td>\n",
       "    </tr>\n",
       "  </tbody>\n",
       "</table>\n",
       "</div>"
      ],
      "text/plain": [
       "        id       Datum  Warengruppe  Bewoelkung  Temperatur  \\\n",
       "0  1808011  2018-08-01            1         0.0     23.7625   \n",
       "1  1808021  2018-08-02            1         0.0     26.1875   \n",
       "2  1808031  2018-08-03            1         1.0     27.6625   \n",
       "3  1808041  2018-08-04            1         4.0     25.1375   \n",
       "4  1808051  2018-08-05            1         7.0     21.3000   \n",
       "\n",
       "   Windgeschwindigkeit  Wettercode  KielerWoche     Datum2  \n",
       "0                 10.0         0.0          NaN 2018-08-01  \n",
       "1                 10.0         0.0          NaN 2018-08-02  \n",
       "2                 10.0         0.0          NaN 2018-08-03  \n",
       "3                 12.0         NaN          NaN 2018-08-04  \n",
       "4                 14.0        61.0          NaN 2018-08-05  "
      ]
     },
     "execution_count": 46,
     "metadata": {},
     "output_type": "execute_result"
    }
   ],
   "source": [
    "test_data2.head()"
   ]
  },
  {
   "cell_type": "code",
   "execution_count": 47,
   "id": "b4199840-7883-428d-b742-18cfbfbaa6ff",
   "metadata": {},
   "outputs": [
    {
     "name": "stdout",
     "output_type": "stream",
     "text": [
      "<class 'pandas.core.frame.DataFrame'>\n",
      "RangeIndex: 1830 entries, 0 to 1829\n",
      "Data columns (total 9 columns):\n",
      " #   Column               Non-Null Count  Dtype         \n",
      "---  ------               --------------  -----         \n",
      " 0   id                   1830 non-null   int64         \n",
      " 1   Datum                1830 non-null   object        \n",
      " 2   Warengruppe          1830 non-null   int64         \n",
      " 3   Bewoelkung           1765 non-null   float64       \n",
      " 4   Temperatur           1765 non-null   float64       \n",
      " 5   Windgeschwindigkeit  1765 non-null   float64       \n",
      " 6   Wettercode           1493 non-null   float64       \n",
      " 7   KielerWoche          45 non-null     float64       \n",
      " 8   Datum2               1830 non-null   datetime64[ns]\n",
      "dtypes: datetime64[ns](1), float64(5), int64(2), object(1)\n",
      "memory usage: 128.8+ KB\n"
     ]
    }
   ],
   "source": [
    "test_data2.info()"
   ]
  },
  {
   "cell_type": "markdown",
   "id": "5abfc0bb-6043-4871-90ba-6b4198a0ccf6",
   "metadata": {},
   "source": [
    "Check missing data and decide what to do for them. 3 Bewoelkung 1765 non-null float64\n",
    "4 Temperatur 1765 non-null float64\n",
    "5 Windgeschwindigkeit 1765 non-null float64\n",
    "6 Wettercode 1493 non-null float64\n",
    "7 KielerWoche 45 non-null float64"
   ]
  },
  {
   "cell_type": "code",
   "execution_count": 48,
   "id": "411bcf3b-d273-4d33-8ab2-136d9fdc9cbd",
   "metadata": {},
   "outputs": [],
   "source": [
    "# KielerWoche --> Non-KielerWoche flag is set to 0\n",
    "test_data2['KielerWoche'] = test_data2['KielerWoche'].fillna(0)"
   ]
  },
  {
   "cell_type": "code",
   "execution_count": 49,
   "id": "148d3ad8-6889-4509-898b-3ef36c97767e",
   "metadata": {},
   "outputs": [
    {
     "name": "stdout",
     "output_type": "stream",
     "text": [
      "Bewoelkung\n",
      "38     2018-09-08\n",
      "39     2018-09-09\n",
      "45     2018-09-15\n",
      "46     2018-09-16\n",
      "47     2018-09-17\n",
      "48     2018-09-18\n",
      "49     2018-09-19\n",
      "50     2018-09-20\n",
      "73     2018-10-13\n",
      "74     2018-10-14\n",
      "80     2018-10-20\n",
      "81     2018-10-21\n",
      "240    2019-04-04\n",
      "Name: Datum, dtype: object\n",
      "\n",
      "Wettercode\n",
      "3      2018-08-04\n",
      "6      2018-08-07\n",
      "7      2018-08-08\n",
      "17     2018-08-18\n",
      "18     2018-08-19\n",
      "          ...    \n",
      "322    2019-06-27\n",
      "323    2019-06-28\n",
      "332    2019-07-07\n",
      "339    2019-07-15\n",
      "349    2019-07-25\n",
      "Name: Datum, Length: 66, dtype: object\n",
      "\n",
      "Temperatur\n",
      "38     2018-09-08\n",
      "39     2018-09-09\n",
      "45     2018-09-15\n",
      "46     2018-09-16\n",
      "47     2018-09-17\n",
      "48     2018-09-18\n",
      "49     2018-09-19\n",
      "50     2018-09-20\n",
      "73     2018-10-13\n",
      "74     2018-10-14\n",
      "80     2018-10-20\n",
      "81     2018-10-21\n",
      "240    2019-04-04\n",
      "Name: Datum, dtype: object\n",
      "\n",
      "Windgeschwindigkeit\n",
      "38     2018-09-08\n",
      "39     2018-09-09\n",
      "45     2018-09-15\n",
      "46     2018-09-16\n",
      "47     2018-09-17\n",
      "48     2018-09-18\n",
      "49     2018-09-19\n",
      "50     2018-09-20\n",
      "73     2018-10-13\n",
      "74     2018-10-14\n",
      "80     2018-10-20\n",
      "81     2018-10-21\n",
      "240    2019-04-04\n",
      "Name: Datum, dtype: object\n"
     ]
    }
   ],
   "source": [
    "# Bewoelkung/Temperatur/Windgeschwindigkeit/Wettercode\n",
    "# Check missing data date\n",
    "print(\"Bewoelkung\")\n",
    "print(test_data2[test_data2['Bewoelkung'].isnull()]['Datum'].drop_duplicates())\n",
    "print()\n",
    "\n",
    "print(\"Wettercode\")\n",
    "print(test_data2[test_data2['Wettercode'].isnull()]['Datum'].drop_duplicates())\n",
    "print()\n",
    "\n",
    "print(\"Temperatur\")\n",
    "print(test_data2[test_data2['Temperatur'].isnull()]['Datum'].drop_duplicates())\n",
    "print()\n",
    "\n",
    "print(\"Windgeschwindigkeit\")\n",
    "print(test_data2[test_data2['Windgeschwindigkeit'].isnull()]['Datum'].drop_duplicates())"
   ]
  },
  {
   "cell_type": "markdown",
   "id": "0f5ff45c-9d10-489d-9ccf-55c04d4185f9",
   "metadata": {},
   "source": [
    "Unlike training data, need to fill in missing data for prediction. \n",
    "Create fill_values_nearby to fill them based on nearby ±5 days.\n",
    "'Bewoelkung'/'Wettercode' --> mode\n",
    "'Temperatur'/'Windgeschwindigkeit' --> mean"
   ]
  },
  {
   "cell_type": "code",
   "execution_count": 50,
   "id": "5f49c64f-04a4-43a8-9990-0e486645d570",
   "metadata": {},
   "outputs": [],
   "source": [
    "def fill_values_nearby(df, date_col, target_col, method=\"mode\", window=5):\n",
    "    \"\"\"\n",
    "    Parameters:\n",
    "        df (DataFrame): input DataFrame\n",
    "        date_col (str): column name with datetime values\n",
    "        target_col (str): column with missing values to fill\n",
    "        method (str): \"mode\" (for categorical) or \"mean\" (for numeric)\n",
    "        window (int): number of days before/after to use\n",
    "    \"\"\"\n",
    "    df = df.copy()\n",
    "    df[date_col] = pd.to_datetime(df[date_col])\n",
    "    \n",
    "    for idx, row in df[df[target_col].isnull()].iterrows():\n",
    "        target_date = row[date_col]\n",
    "        \n",
    "        # Filter nearby non-null rows\n",
    "        nearby = df[\n",
    "            (df[date_col] >= target_date - pd.Timedelta(days=window)) &\n",
    "            (df[date_col] <= target_date + pd.Timedelta(days=window)) &\n",
    "            (~df[target_col].isnull())\n",
    "        ]\n",
    "\n",
    "        if not nearby.empty:\n",
    "            if method == \"mode\":\n",
    "                fill_value = nearby[target_col].mode().iloc[0]\n",
    "            elif method == \"mean\":\n",
    "                fill_value = nearby[target_col].mean()\n",
    "            else:\n",
    "                raise ValueError(\"method must be 'mode' or 'mean'\")\n",
    "            \n",
    "            df.at[idx, target_col] = fill_value\n",
    "\n",
    "    return df"
   ]
  },
  {
   "cell_type": "code",
   "execution_count": 51,
   "id": "49f74a98-4b96-4d57-b5a0-b1c2a54be822",
   "metadata": {},
   "outputs": [],
   "source": [
    "test_data2 = fill_values_nearby(test_data2, 'Datum2', 'Bewoelkung')\n",
    "test_data2 = fill_values_nearby(test_data2, 'Datum2', 'Wettercode')\n",
    "test_data2 = fill_values_nearby(test_data2, 'Datum2', 'Temperatur', method=\"mean\")\n",
    "test_data2 = fill_values_nearby(test_data2, 'Datum2', 'Windgeschwindigkeit', method=\"mean\")"
   ]
  },
  {
   "cell_type": "code",
   "execution_count": 52,
   "id": "60a1c18c-1144-4eb5-b6ef-0161e7651b8b",
   "metadata": {},
   "outputs": [
    {
     "name": "stdout",
     "output_type": "stream",
     "text": [
      "<class 'pandas.core.frame.DataFrame'>\n",
      "RangeIndex: 1830 entries, 0 to 1829\n",
      "Data columns (total 9 columns):\n",
      " #   Column               Non-Null Count  Dtype         \n",
      "---  ------               --------------  -----         \n",
      " 0   id                   1830 non-null   int64         \n",
      " 1   Datum                1830 non-null   object        \n",
      " 2   Warengruppe          1830 non-null   int64         \n",
      " 3   Bewoelkung           1830 non-null   float64       \n",
      " 4   Temperatur           1830 non-null   float64       \n",
      " 5   Windgeschwindigkeit  1830 non-null   float64       \n",
      " 6   Wettercode           1830 non-null   float64       \n",
      " 7   KielerWoche          1830 non-null   float64       \n",
      " 8   Datum2               1830 non-null   datetime64[ns]\n",
      "dtypes: datetime64[ns](1), float64(5), int64(2), object(1)\n",
      "memory usage: 128.8+ KB\n"
     ]
    }
   ],
   "source": [
    "test_data2.info()"
   ]
  },
  {
   "cell_type": "code",
   "execution_count": 53,
   "id": "716ee084-6670-47ad-ae38-0157bf4a3aef",
   "metadata": {},
   "outputs": [
    {
     "data": {
      "text/plain": [
       "(1830, 34)"
      ]
     },
     "execution_count": 53,
     "metadata": {},
     "output_type": "execute_result"
    }
   ],
   "source": [
    "# Change 'Datum2' into 'Year'/'Month'/'Day'\n",
    "test_data3 = test_data2.copy()\n",
    "test_data3['Year'] = test_data3['Datum2'].dt.year\n",
    "test_data3['Month'] = test_data3['Datum2'].dt.month\n",
    "test_data3['Day'] = test_data3['Datum2'].dt.day\n",
    "\n",
    "# Create new features (if the day is the last of the year)\n",
    "test_data3['is_year_end'] = (test_data3['Month'] == 12) & (test_data3['Day'] == 31)\n",
    "test_data3['is_year_end'] = test_data3['is_year_end'].astype(int)\n",
    "\n",
    "test_data3 = pd.get_dummies(test_data3, columns = ['Warengruppe', 'Wettercode'] ,drop_first = False, dtype = int)\n",
    "test_data3.shape"
   ]
  },
  {
   "cell_type": "code",
   "execution_count": 54,
   "id": "564d70f6-27fa-457f-8a48-22f5f646a9ea",
   "metadata": {},
   "outputs": [
    {
     "name": "stdout",
     "output_type": "stream",
     "text": [
      "<class 'pandas.core.frame.DataFrame'>\n",
      "RangeIndex: 1830 entries, 0 to 1829\n",
      "Data columns (total 34 columns):\n",
      " #   Column               Non-Null Count  Dtype         \n",
      "---  ------               --------------  -----         \n",
      " 0   id                   1830 non-null   int64         \n",
      " 1   Datum                1830 non-null   object        \n",
      " 2   Bewoelkung           1830 non-null   float64       \n",
      " 3   Temperatur           1830 non-null   float64       \n",
      " 4   Windgeschwindigkeit  1830 non-null   float64       \n",
      " 5   KielerWoche          1830 non-null   float64       \n",
      " 6   Datum2               1830 non-null   datetime64[ns]\n",
      " 7   Year                 1830 non-null   int32         \n",
      " 8   Month                1830 non-null   int32         \n",
      " 9   Day                  1830 non-null   int32         \n",
      " 10  is_year_end          1830 non-null   int64         \n",
      " 11  Warengruppe_1        1830 non-null   int64         \n",
      " 12  Warengruppe_2        1830 non-null   int64         \n",
      " 13  Warengruppe_3        1830 non-null   int64         \n",
      " 14  Warengruppe_4        1830 non-null   int64         \n",
      " 15  Warengruppe_5        1830 non-null   int64         \n",
      " 16  Warengruppe_6        1830 non-null   int64         \n",
      " 17  Wettercode_0.0       1830 non-null   int64         \n",
      " 18  Wettercode_5.0       1830 non-null   int64         \n",
      " 19  Wettercode_10.0      1830 non-null   int64         \n",
      " 20  Wettercode_17.0      1830 non-null   int64         \n",
      " 21  Wettercode_20.0      1830 non-null   int64         \n",
      " 22  Wettercode_21.0      1830 non-null   int64         \n",
      " 23  Wettercode_22.0      1830 non-null   int64         \n",
      " 24  Wettercode_28.0      1830 non-null   int64         \n",
      " 25  Wettercode_45.0      1830 non-null   int64         \n",
      " 26  Wettercode_49.0      1830 non-null   int64         \n",
      " 27  Wettercode_53.0      1830 non-null   int64         \n",
      " 28  Wettercode_55.0      1830 non-null   int64         \n",
      " 29  Wettercode_61.0      1830 non-null   int64         \n",
      " 30  Wettercode_63.0      1830 non-null   int64         \n",
      " 31  Wettercode_68.0      1830 non-null   int64         \n",
      " 32  Wettercode_71.0      1830 non-null   int64         \n",
      " 33  Wettercode_95.0      1830 non-null   int64         \n",
      "dtypes: datetime64[ns](1), float64(4), int32(3), int64(25), object(1)\n",
      "memory usage: 464.8+ KB\n"
     ]
    }
   ],
   "source": [
    "test_data3.to_csv('../data/test_data3.csv', index=False)\n",
    "test_data3.info()"
   ]
  },
  {
   "cell_type": "code",
   "execution_count": 55,
   "id": "abc151ed-e762-49d4-b19b-ac8b61859f46",
   "metadata": {},
   "outputs": [],
   "source": [
    "# Prediction\n",
    "X_test = test_data3[feature_list3]\n",
    "predictions = model_XGBR.predict(X_test)\n",
    "\n",
    "output = pd.DataFrame({'id': test_data3.id, 'Umsatz': predictions})\n",
    "output.to_csv(f\"../submission/submission_{datetime.now().strftime('%Y%m%d_%H%M%S')}.csv\", index=False)"
   ]
  },
  {
   "cell_type": "code",
   "execution_count": 56,
   "id": "03cf48f9-cef0-4f70-84c4-f59f2d118990",
   "metadata": {},
   "outputs": [],
   "source": [
    "# Save model\n",
    "import pickle\n",
    "\n",
    "with open('../models/BakarySales.pkl',\"wb\") as f:\n",
    "    pickle.dump(model_XGBR,f)"
   ]
  }
 ],
 "metadata": {
  "kernelspec": {
   "display_name": "Python 3 (ipykernel)",
   "language": "python",
   "name": "python3"
  },
  "language_info": {
   "codemirror_mode": {
    "name": "ipython",
    "version": 3
   },
   "file_extension": ".py",
   "mimetype": "text/x-python",
   "name": "python",
   "nbconvert_exporter": "python",
   "pygments_lexer": "ipython3",
   "version": "3.12.7"
  }
 },
 "nbformat": 4,
 "nbformat_minor": 5
}
